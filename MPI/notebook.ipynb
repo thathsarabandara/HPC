{
 "cells": [
  {
   "cell_type": "code",
   "execution_count": 10,
   "id": "296b224e",
   "metadata": {},
   "outputs": [
    {
     "name": "stdout",
     "output_type": "stream",
     "text": [
      "size=%d ,rank=%d 4 2\n",
      "size=%d ,rank=%d 4 1\n",
      "size=%d ,rank=%d 4 0\n",
      "size=%d ,rank=%d 4 3\n"
     ]
    }
   ],
   "source": [
    "!mpiexec -n 4 python ./basic.py"
   ]
  },
  {
   "cell_type": "code",
   "execution_count": 11,
   "id": "90760579",
   "metadata": {},
   "outputs": [
    {
     "name": "stdout",
     "output_type": "stream",
     "text": [
      "8\n",
      "15\n",
      "5\n"
     ]
    }
   ],
   "source": [
    "!mpiexec -n 3 python ./basic2.py"
   ]
  },
  {
   "cell_type": "code",
   "execution_count": 1,
   "id": "de54b4db",
   "metadata": {},
   "outputs": [
    {
     "name": "stdout",
     "output_type": "stream",
     "text": [
      "Process 0 before receiving has the number 0.0\n",
      "Process 1 drew the number 0.5376013831758666\n",
      "Process 0 Recievied the number 0.5376013831758666\n"
     ]
    }
   ],
   "source": [
    "!mpiexec -n 3 python ./basic3.py"
   ]
  },
  {
   "cell_type": "code",
   "execution_count": 2,
   "id": "77fa6b4d",
   "metadata": {},
   "outputs": [
    {
     "name": "stdout",
     "output_type": "stream",
     "text": [
      "Process 0 before receiving has the number 0.0\n",
      "Process 1 drew the number 0.923064991682729\n",
      "Process 0 Recievied the number 0.923064991682729\n",
      "Process 1 Recievied the number 1.846129983365458\n"
     ]
    }
   ],
   "source": [
    "!mpiexec -n 2 python ./basic4.py"
   ]
  },
  {
   "cell_type": "code",
   "execution_count": 3,
   "id": "09055466",
   "metadata": {},
   "outputs": [
    {
     "name": "stdout",
     "output_type": "stream",
     "text": [
      "Process 0 before receiving has the number 0.0\n",
      "Process 1 drew the number 0.5151505792851448\n",
      "Process 0 Recievied the number 0.5151505792851448\n",
      "Process 1 Recievied the number 1.0303011585702897\n"
     ]
    }
   ],
   "source": [
    "!mpiexec -n 2 python ./basic5.py"
   ]
  },
  {
   "cell_type": "code",
   "execution_count": 4,
   "id": "47df4082",
   "metadata": {},
   "outputs": [
    {
     "name": "stdout",
     "output_type": "stream",
     "text": [
      "Process 1 drew the number 0.7478634049895114\n",
      "diffNum= 0.2894338281501379\n",
      "Process 0 before receiving has the number 0.0\n",
      "Process 0 Recievied the number 0.7478634049895114\n",
      "Process 1 Recievied the number 1.4957268099790229\n"
     ]
    }
   ],
   "source": [
    "!mpiexec -n 2 python ./basic6.py"
   ]
  },
  {
   "cell_type": "code",
   "execution_count": null,
   "id": "8f942463",
   "metadata": {},
   "outputs": [],
   "source": []
  }
 ],
 "metadata": {
  "kernelspec": {
   "display_name": "myenv",
   "language": "python",
   "name": "python3"
  },
  "language_info": {
   "codemirror_mode": {
    "name": "ipython",
    "version": 3
   },
   "file_extension": ".py",
   "mimetype": "text/x-python",
   "name": "python",
   "nbconvert_exporter": "python",
   "pygments_lexer": "ipython3",
   "version": "3.12.3"
  }
 },
 "nbformat": 4,
 "nbformat_minor": 5
}
