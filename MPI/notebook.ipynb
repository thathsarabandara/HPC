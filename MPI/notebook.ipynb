{
 "cells": [
  {
   "cell_type": "code",
   "execution_count": 5,
   "id": "296b224e",
   "metadata": {},
   "outputs": [
    {
     "name": "stdout",
     "output_type": "stream",
     "text": [
      "size=%d ,rank=%d 4 2\n",
      "size=%d ,rank=%d 4 3\n",
      "size=%d ,rank=%d 4 0\n",
      "size=%d ,rank=%d 4 1\n"
     ]
    }
   ],
   "source": [
    "!mpiexec -n 4 python ./basic.py"
   ]
  },
  {
   "cell_type": "code",
   "execution_count": 6,
   "id": "90760579",
   "metadata": {},
   "outputs": [
    {
     "name": "stdout",
     "output_type": "stream",
     "text": [
      "8\n",
      "15\n",
      "5\n"
     ]
    }
   ],
   "source": [
    "!mpiexec -n 3 python ./basic2.py"
   ]
  },
  {
   "cell_type": "code",
   "execution_count": null,
   "id": "de54b4db",
   "metadata": {},
   "outputs": [],
   "source": []
  }
 ],
 "metadata": {
  "kernelspec": {
   "display_name": "myenv",
   "language": "python",
   "name": "python3"
  },
  "language_info": {
   "codemirror_mode": {
    "name": "ipython",
    "version": 3
   },
   "file_extension": ".py",
   "mimetype": "text/x-python",
   "name": "python",
   "nbconvert_exporter": "python",
   "pygments_lexer": "ipython3",
   "version": "3.12.3"
  }
 },
 "nbformat": 4,
 "nbformat_minor": 5
}
