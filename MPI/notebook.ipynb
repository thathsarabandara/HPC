{
 "cells": [
  {
   "cell_type": "code",
   "execution_count": 10,
   "id": "296b224e",
   "metadata": {},
   "outputs": [
    {
     "name": "stdout",
     "output_type": "stream",
     "text": [
      "size=%d ,rank=%d 4 2\n",
      "size=%d ,rank=%d 4 1\n",
      "size=%d ,rank=%d 4 0\n",
      "size=%d ,rank=%d 4 3\n"
     ]
    }
   ],
   "source": [
    "!mpiexec -n 4 python ./basic.py"
   ]
  },
  {
   "cell_type": "code",
   "execution_count": 11,
   "id": "90760579",
   "metadata": {},
   "outputs": [
    {
     "name": "stdout",
     "output_type": "stream",
     "text": [
      "8\n",
      "15\n",
      "5\n"
     ]
    }
   ],
   "source": [
    "!mpiexec -n 3 python ./basic2.py"
   ]
  },
  {
   "cell_type": "code",
   "execution_count": 12,
   "id": "de54b4db",
   "metadata": {},
   "outputs": [
    {
     "name": "stdout",
     "output_type": "stream",
     "text": [
      "Process 0 before receiving has the number 0.0\n",
      "Process 1 drew the number 0.6651491767202786\n",
      "Process 0 Recievied the number 0.6651491767202786\n"
     ]
    }
   ],
   "source": [
    "!mpiexec -n 3 python ./basic3.py"
   ]
  }
 ],
 "metadata": {
  "kernelspec": {
   "display_name": "myenv",
   "language": "python",
   "name": "python3"
  },
  "language_info": {
   "codemirror_mode": {
    "name": "ipython",
    "version": 3
   },
   "file_extension": ".py",
   "mimetype": "text/x-python",
   "name": "python",
   "nbconvert_exporter": "python",
   "pygments_lexer": "ipython3",
   "version": "3.12.3"
  }
 },
 "nbformat": 4,
 "nbformat_minor": 5
}
